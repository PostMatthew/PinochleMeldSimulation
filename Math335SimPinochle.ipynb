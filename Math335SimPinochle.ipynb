{
 "cells": [
  {
   "cell_type": "markdown",
   "id": "2ccff485",
   "metadata": {},
   "source": [
    "# Math 335 Simulation Take #2"
   ]
  },
  {
   "cell_type": "markdown",
   "id": "8353327c",
   "metadata": {},
   "source": [
    "This simulation will model the card game pinochle meld distribution and will calculate the probability of diffrent meld hands occuring. Additionally, data collected from this simulation will allow for conditional probilities to be calculated for diffrent meld hand combinations.\n",
    "\n",
    "### Deck Makeup\n",
    "A pinochle deck is diffrent than a traditional card deck. A Pinochle deck (48 cards) is constituded of the following for each suit:\n",
    "- 2 Nines\n",
    "- 2 Tens\n",
    "- 2 Jacks\n",
    "- 2 Queens\n",
    "- 2 Kings\n",
    "- 2 Aces\n",
    "\n",
    "### Meld Breakdown\n",
    "For suits of hearts, clubs, dimonds, spades. Pinochle is a trick taking game with a betting phase in order to win the right to call a trump suit. The breakdown of meld points is as follows:\n",
    "- Marriage: K & Q in any suit = 2 pts\n",
    "- Half pinochle: (1 Q spades & 1 J dimonds) = 4 pts\n",
    "- Full pinochle: (2 Q spades & 2 J dimonds) = 30 pts\n",
    "- Run in trump suit: (A,10,K,Q,J) [Nine optional] = 15 pts\n",
    "- Hundred Aces: A spades, A hearts, A clubs, A dimonds = 10 pts\n",
    "- Eighty Kings: K spades, K hearts, K clubs, K dimonds = 8 pts\n",
    "- Sixty Queens: Q spades, Q hearts, Q clubs, Q dimonds = 6 pts\n",
    "- Fourty Jacks: J spades, J hearts, J clubs, J dimonds = 4 pts\n",
    "\n",
    "### Assumptions:\n",
    "This simulation will assume that a single deck is being used, and that their are four players. 48 possibile cards being distributed evenly among the players. For larger games (P>6) more decks are introduced. For the purpose of this simulation, trump suit and trump suit based point bonuses will be ignored. As such an additional meld hand (9 in trump suit = 1 pt) will be ignored as well because of the lack of trump considerations."
   ]
  },
  {
   "cell_type": "markdown",
   "id": "3be246f8",
   "metadata": {},
   "source": [
    "## Functions:\n",
    "Needed functions for this simulation will be as follows:\n",
    "- Deal Hands: build deck and deal $$\\frac{48_{cards}}{4_{players}} = 12_{cards/player}$$ \n",
    "- Check for runs & set trump\n",
    "- Check for meld combinations add to counters if occurance is present\n",
    "- Event probability function\n",
    "- Joint Probability function\n",
    "- Conditional Probability Definition Function\n",
    "- Bayes Therom Probability Function"
   ]
  },
  {
   "cell_type": "markdown",
   "id": "1a098f9c",
   "metadata": {},
   "source": [
    "## Import Libaries"
   ]
  },
  {
   "cell_type": "code",
   "execution_count": 2,
   "id": "97cc0013",
   "metadata": {},
   "outputs": [],
   "source": [
    "import pandas as pd\n",
    "import random\n",
    "from tqdm import tqdm\n",
    "import matplotlib.pyplot as plt"
   ]
  },
  {
   "cell_type": "markdown",
   "id": "70523b23",
   "metadata": {},
   "source": [
    "## Set Up Needed Constants / Definitions"
   ]
  },
  {
   "cell_type": "code",
   "execution_count": 3,
   "id": "f8595296",
   "metadata": {},
   "outputs": [],
   "source": [
    "values = [\"9\",\"J\",\"Q\",\"K\",\"10\",\"A\"]*2\n",
    "Suits = [\"S\",\"H\",\"C\",\"D\"] # S == Spades, H == Hearts, C == Clubs, D == Dimonds"
   ]
  },
  {
   "cell_type": "markdown",
   "id": "8292dcd3",
   "metadata": {},
   "source": [
    "## Build Deck & Deal Hands:"
   ]
  },
  {
   "cell_type": "code",
   "execution_count": 4,
   "id": "efe0678b",
   "metadata": {},
   "outputs": [],
   "source": [
    "class Deck:\n",
    "    def __init__(self):\n",
    "        self.cards = [value+suit for value in values for suit in Suits] # Etabilisbles\n",
    "    #shuffle the deck. No return value\n",
    "    def shuffle(self):\n",
    "        random.shuffle(self.cards)\n",
    "    \n",
    "    #deal the deck to the given number of players. Return as a list of lists\n",
    "    def deal(self, N_players):\n",
    "        results = [[] for player in range(N_players)]\n",
    "        for (index, card) in enumerate(self.cards):\n",
    "            playerIndex = index % N_players\n",
    "            results[playerIndex].append(card)\n",
    "        return results"
   ]
  },
  {
   "cell_type": "markdown",
   "id": "57ce2676",
   "metadata": {},
   "source": [
    "## Testing Build Deck:"
   ]
  },
  {
   "cell_type": "code",
   "execution_count": 5,
   "id": "c3de60b0",
   "metadata": {},
   "outputs": [
    {
     "name": "stdout",
     "output_type": "stream",
     "text": [
      "   Player1 Player2 Player3 Player4\n",
      "0       QD     10H      AD      JC\n",
      "1       JS      JD      KS      KD\n",
      "2       KH      9C      QC     10C\n",
      "3      10S      QC      AS      JS\n",
      "4       QS      AH      JH      AH\n",
      "5       9D      AC     10H      AS\n",
      "6      10S      9S      AD      JD\n",
      "7       QH      JH      AC      QD\n",
      "8       QS      9H      9C      KH\n",
      "9       JC      9S      KC      QH\n",
      "10      KC      KS     10D      9H\n",
      "11     10D      KD     10C      9D\n"
     ]
    }
   ],
   "source": [
    "N_players = 4\n",
    "deck = Deck()\n",
    "deck.shuffle()\n",
    "hands = pd.DataFrame(data=deck.deal(N_players),index=[\"Player\"+str(i) for i in range(1,N_players+1)])\n",
    "hands = hands.T\n",
    "print(hands)"
   ]
  },
  {
   "cell_type": "markdown",
   "id": "c110db64",
   "metadata": {},
   "source": [
    "### FUNCTIONS TO CHECK RUN IN EACH SUIT"
   ]
  },
  {
   "cell_type": "code",
   "execution_count": 6,
   "id": "9c884ef1",
   "metadata": {},
   "outputs": [],
   "source": [
    "[\"AC\",\"10C\",\"KC\",\"QC\",\"JC\"]\n",
    "def checkClubRuns(player_hand, player):\n",
    "        clubs = [\"AC\",\"10C\",\"KC\",\"QC\",\"JC\"]\n",
    "        card = 0\n",
    "        for i in player_hand[player]:\n",
    "            for j in clubs:\n",
    "                if i == j:\n",
    "                    card +=1\n",
    "                    clubs.remove(j)\n",
    "        if card == 5:\n",
    "            return True\n",
    "        return False\n",
    "\n",
    "def checkHeartRuns(player_hand, player):\n",
    "        hearts = [\"AH\",\"10H\",\"KH\",\"QH\",\"JH\"]\n",
    "        card = 0\n",
    "        for i in player_hand[player]:\n",
    "            for j in hearts:\n",
    "                if i == j:\n",
    "                    card +=1\n",
    "                    hearts.remove(j)\n",
    "        if card == 5:\n",
    "            return True\n",
    "        return False\n",
    "\n",
    "def checkSpadesRuns(player_hand, player):\n",
    "        spades = [\"AS\",\"10S\",\"KS\",\"QS\",\"JS\"]\n",
    "        card = 0\n",
    "        for i in player_hand[player]:\n",
    "            for j in spades:\n",
    "                if i == j:\n",
    "                    card +=1\n",
    "                    spades.remove(j)\n",
    "        if card == 5:\n",
    "            return True\n",
    "        return False\n",
    "\n",
    "def checkDimRuns(player_hand, player):\n",
    "        dim = [\"AD\",\"10D\",\"KD\",\"QD\",\"JD\"]\n",
    "        card = 0\n",
    "        for i in player_hand[player]:\n",
    "            for j in dim:\n",
    "                if i == j:\n",
    "                    card +=1\n",
    "                    dim.remove(j)\n",
    "        if card == 5:\n",
    "            return True\n",
    "        return False"
   ]
  },
  {
   "cell_type": "markdown",
   "id": "b391d033",
   "metadata": {},
   "source": [
    "### TOTAL FUNCTION TO CHECK FOR ANY RUNS"
   ]
  },
  {
   "cell_type": "code",
   "execution_count": 7,
   "id": "42a457c2",
   "metadata": {},
   "outputs": [],
   "source": [
    "def CheckRuns(hands,player):\n",
    "    bool_club_runs=checkClubRuns(hands,player)\n",
    "    bool_heart_runs=checkHeartRuns(hands,player)\n",
    "    bool_spade_runs=checkSpadesRuns(hands,player)\n",
    "    bool_dim_runs=checkDimRuns(hands,player)\n",
    "    return bool_club_runs,bool_heart_runs,bool_spade_runs,bool_dim_runs"
   ]
  },
  {
   "cell_type": "markdown",
   "id": "839967c7",
   "metadata": {},
   "source": [
    "### UNIT TEST FOR CHECK RUNS"
   ]
  },
  {
   "cell_type": "code",
   "execution_count": 8,
   "id": "d6501964",
   "metadata": {},
   "outputs": [
    {
     "name": "stdout",
     "output_type": "stream",
     "text": [
      "Player1\n",
      "Player2\n",
      "Player3\n",
      "Player4\n"
     ]
    }
   ],
   "source": [
    "players=[\"Player1\",\"Player2\",\"Player3\",\"Player4\"]\n",
    "for player in players:\n",
    "    print(player)\n",
    "    bool_club_runs,bool_heart_runs,bool_spade_runs,bool_dim_runs=CheckRuns(hands,player)"
   ]
  },
  {
   "cell_type": "markdown",
   "id": "77059a57",
   "metadata": {},
   "source": [
    "### CHECK FOR MARRIAGE FUNCTIONS:"
   ]
  },
  {
   "cell_type": "code",
   "execution_count": 9,
   "id": "09ff0e09",
   "metadata": {},
   "outputs": [],
   "source": [
    "def checkClubMarriage(player_hand, player):\n",
    "        clubs = [\"KC\",\"QC\"]\n",
    "        #heartsMarriage = True\n",
    "        card = 0\n",
    "        for i in player_hand[player]:\n",
    "            for j in clubs:\n",
    "                if i == j:\n",
    "                    card += 1\n",
    "                    if 2<=card and card<4:\n",
    "                        clubs.remove(j)\n",
    "                    \n",
    "        if card == 2:\n",
    "            #print(\"clubs marriage\")\n",
    "            return True\n",
    "        #print(\"No clubs marriage\")\n",
    "        return False\n",
    "\n",
    "def checkHeartMarriage(player_hand, player):\n",
    "        hearts = [\"KH\",\"QH\"]\n",
    "        #heartsMarriage = True\n",
    "        card = 0\n",
    "        for i in player_hand[player]:\n",
    "            for j in hearts:\n",
    "                if i == j:\n",
    "                    card += 1\n",
    "                    if 2<=card and card<4:\n",
    "                        hearts.remove(j)\n",
    "                    \n",
    "        if card == 2:\n",
    "            #print(\"hearts marriage\")\n",
    "            return True\n",
    "        #print(\"No hearts marriage\")\n",
    "        return False\n",
    "\n",
    "def checkSpadeMarriage(player_hand, player):\n",
    "        spades = [\"KS\",\"QS\"]\n",
    "        card = 0\n",
    "        for i in player_hand[player]:\n",
    "            for j in spades:\n",
    "                if i == j:\n",
    "                    card += 1\n",
    "                    if 2<=card and card<4:\n",
    "                        spades.remove(j)\n",
    "                    \n",
    "        if card == 2:\n",
    "            #print(\"Spades marriage\")\n",
    "            return True\n",
    "        #print(\"No spades marriage\")\n",
    "        return False\n",
    "\n",
    "def checkDimMarriage(player_hand, player):\n",
    "        dims = [\"KD\",\"QD\"]\n",
    "        card = 0\n",
    "        for i in player_hand[player]:\n",
    "            for j in dims:\n",
    "                if i == j:\n",
    "                    card += 1\n",
    "                    if 2<=card and card<4:\n",
    "                        dims.remove(j)\n",
    "                    \n",
    "        if card == 2:\n",
    "            #print(\"Dims marriage\")\n",
    "            return True\n",
    "        #print(\"No dims marriage\")\n",
    "        return False"
   ]
  },
  {
   "cell_type": "markdown",
   "id": "cb8ec45a",
   "metadata": {},
   "source": [
    "### TOTAL FUNCTION TO CHECK FOR ANY MARRIAGES"
   ]
  },
  {
   "cell_type": "code",
   "execution_count": 10,
   "id": "4a7b561c",
   "metadata": {},
   "outputs": [],
   "source": [
    "def CheckMarriages(hands,player):\n",
    "    bool_club_mar=checkClubMarriage(hands,player)\n",
    "    bool_heart_mar=checkHeartMarriage(hands,player)\n",
    "    bool_spade_mar=checkSpadeMarriage(hands,player)\n",
    "    bool_dim_mar=checkDimMarriage(hands,player)\n",
    "    return bool_club_mar,bool_heart_mar,bool_spade_mar,bool_dim_mar"
   ]
  },
  {
   "cell_type": "markdown",
   "id": "9ea85da7",
   "metadata": {},
   "source": [
    "### UNIT TEST FOR CHECK MARRIAGES"
   ]
  },
  {
   "cell_type": "code",
   "execution_count": 11,
   "id": "1154a81d",
   "metadata": {},
   "outputs": [
    {
     "name": "stdout",
     "output_type": "stream",
     "text": [
      "Player1\n",
      "Player2\n",
      "Player3\n",
      "Player4\n"
     ]
    }
   ],
   "source": [
    "players=[\"Player1\",\"Player2\",\"Player3\",\"Player4\"]\n",
    "for player in players:\n",
    "    print(player)\n",
    "    bool_club_mar,bool_heart_mar,bool_spade_mar,bool_dim_mar = CheckMarriages(hands,player)"
   ]
  },
  {
   "cell_type": "markdown",
   "id": "421bd07f",
   "metadata": {},
   "source": [
    "### CHECK FOR HUNDRED ACES"
   ]
  },
  {
   "cell_type": "code",
   "execution_count": 12,
   "id": "20712802",
   "metadata": {},
   "outputs": [],
   "source": [
    "def checkHunAces(hands,player):\n",
    "        aces = [\"AS\",\"AD\",\"AC\",\"AH\"]\n",
    "        card = 0\n",
    "        for i in hands[player]:\n",
    "            for j in aces:\n",
    "                if i == j:\n",
    "                    card += 1\n",
    "                    if card<4:\n",
    "                        aces.remove(j)\n",
    "        if card == 4:\n",
    "            #print(\"Hun Aces\")\n",
    "            return True\n",
    "        #print(\"No Hun Aces\")\n",
    "        return False"
   ]
  },
  {
   "cell_type": "markdown",
   "id": "a9861038",
   "metadata": {},
   "source": [
    "### UNIT TEST FOR CHECK HUN ACES"
   ]
  },
  {
   "cell_type": "code",
   "execution_count": 13,
   "id": "20dec7a6",
   "metadata": {},
   "outputs": [],
   "source": [
    "players=[\"Player1\",\"Player2\",\"Player3\",\"Player4\"]\n",
    "for player in players:\n",
    "    bool_hun_aces = checkHunAces(hands,\"Player1\")"
   ]
  },
  {
   "cell_type": "markdown",
   "id": "1bfe5078",
   "metadata": {},
   "source": [
    "### CHECK FOR EIGHTY KINGS"
   ]
  },
  {
   "cell_type": "code",
   "execution_count": 14,
   "id": "49ed865b",
   "metadata": {},
   "outputs": [],
   "source": [
    "\"KS\",\"KD\",\"KH\",\"KC\"\n",
    "def checkEightKing(hands,player):\n",
    "        kings = [\"KS\",\"KD\",\"KH\",\"KC\"]\n",
    "        card = 0\n",
    "        for i in hands[player]:\n",
    "            for j in kings:\n",
    "                if i == j:\n",
    "                    card += 1\n",
    "                    if card<4:\n",
    "                        kings.remove(j)\n",
    "        if card == 4:\n",
    "            return True\n",
    "        return False"
   ]
  },
  {
   "cell_type": "markdown",
   "id": "535c088f",
   "metadata": {},
   "source": [
    "### UNIT TEST FOR CHECK EIGHTY KINGS"
   ]
  },
  {
   "cell_type": "code",
   "execution_count": 15,
   "id": "5000d189",
   "metadata": {},
   "outputs": [],
   "source": [
    "players=[\"Player1\",\"Player2\",\"Player3\",\"Player4\"]\n",
    "for player in players:\n",
    "    bool_check_eight_kings = checkEightKing(hands,player)"
   ]
  },
  {
   "cell_type": "markdown",
   "id": "928c805c",
   "metadata": {},
   "source": [
    "### CHECK FOR SIXTY QUEENS"
   ]
  },
  {
   "cell_type": "code",
   "execution_count": 16,
   "id": "32493cf1",
   "metadata": {},
   "outputs": [],
   "source": [
    "def checkSixQueen(hands,player):\n",
    "        queens = [\"QS\",\"QD\",\"QH\",\"QC\"]\n",
    "        card = 0\n",
    "        for i in hands[player]:\n",
    "            for j in queens:\n",
    "                if i == j:\n",
    "                    card += 1\n",
    "                    if card<4:\n",
    "                        queens.remove(j)\n",
    "        if card == 4:\n",
    "            #print(\"Sixty Queens\")\n",
    "            return True\n",
    "        #print(\"No Sixty Queens\")\n",
    "        return False"
   ]
  },
  {
   "cell_type": "markdown",
   "id": "3ff2aaba",
   "metadata": {},
   "source": [
    "### UNIT TEST FOR CHECK SIXTY QUEENS"
   ]
  },
  {
   "cell_type": "code",
   "execution_count": 17,
   "id": "fd26b868",
   "metadata": {},
   "outputs": [
    {
     "name": "stdout",
     "output_type": "stream",
     "text": [
      "Player1\n",
      "Player2\n",
      "Player3\n",
      "Player4\n"
     ]
    }
   ],
   "source": [
    "players=[\"Player1\",\"Player2\",\"Player3\",\"Player4\"]\n",
    "for player in players:\n",
    "    print(player)\n",
    "    bool_check_six_queens = checkSixQueen(hands,player)"
   ]
  },
  {
   "cell_type": "markdown",
   "id": "9ef1906c",
   "metadata": {},
   "source": [
    "### CHECK FOR FOURTY JACKS"
   ]
  },
  {
   "cell_type": "code",
   "execution_count": 18,
   "id": "87e8017e",
   "metadata": {},
   "outputs": [],
   "source": [
    "\"JS\",\"JD\",\"JH\",\"JC\"\n",
    "def checkFourJacks(hands,player):\n",
    "        jacks = [\"JS\",\"JD\",\"JH\",\"JC\"]\n",
    "        card = 0\n",
    "        for i in hands[player]:\n",
    "            for j in jacks:\n",
    "                if i == j:\n",
    "                    card += 1\n",
    "                    if card<4:\n",
    "                        jacks.remove(j)\n",
    "        if card == 4:\n",
    "            #print(\"Fourty Jacks\")\n",
    "            return True\n",
    "        #print(\"No Fourty Jacks\")\n",
    "        return False"
   ]
  },
  {
   "cell_type": "markdown",
   "id": "d7edab08",
   "metadata": {},
   "source": [
    "### UNIT TEST FOR CHECK FOR FOURTY JACKS"
   ]
  },
  {
   "cell_type": "code",
   "execution_count": 19,
   "id": "9a0e70a4",
   "metadata": {},
   "outputs": [
    {
     "name": "stdout",
     "output_type": "stream",
     "text": [
      "Player1\n",
      "Player2\n",
      "Player3\n",
      "Player4\n"
     ]
    }
   ],
   "source": [
    "players=[\"Player1\",\"Player2\",\"Player3\",\"Player4\"]\n",
    "for player in players:\n",
    "    print(player)\n",
    "    bool_check_four_queen = checkFourJacks(hands,player)"
   ]
  },
  {
   "cell_type": "markdown",
   "id": "045aacbe",
   "metadata": {},
   "source": [
    "### CHECK FOR PINOCHLE / HALF PINOCHLE"
   ]
  },
  {
   "cell_type": "code",
   "execution_count": 20,
   "id": "5fb54319",
   "metadata": {},
   "outputs": [],
   "source": [
    "# TUPLE: {half Pin}, {full pin}\n",
    "def checkPin(hands,player):\n",
    "        pin = [\"QS\",\"JD\",\"QS\",\"JD\"]\n",
    "        card = 0\n",
    "        for i in hands[player]:\n",
    "            for j in pin:\n",
    "                if i == j:\n",
    "                    card += 1\n",
    "                    pin.remove(j)\n",
    "        if card==4:\n",
    "            return True\n",
    "        return False\n",
    "def checkHalfPin(hands,player):\n",
    "        halfpin = [\"QS\",\"JD\"]\n",
    "        card = 0\n",
    "        for i in hands[player]:\n",
    "            for j in halfpin:\n",
    "                if i==j:\n",
    "                    card+=1\n",
    "                    #print(card)\n",
    "                    halfpin.remove(j)\n",
    "        if card==2:\n",
    "            return True\n",
    "        return False"
   ]
  },
  {
   "cell_type": "markdown",
   "id": "20268a34",
   "metadata": {},
   "source": [
    "### UNIT TEST CHECK FOR PINOCHLE"
   ]
  },
  {
   "cell_type": "code",
   "execution_count": 21,
   "id": "2de7e589",
   "metadata": {},
   "outputs": [
    {
     "name": "stdout",
     "output_type": "stream",
     "text": [
      "Player1\n",
      "Player2\n",
      "Player3\n",
      "Player4\n"
     ]
    }
   ],
   "source": [
    "players=[\"Player1\",\"Player2\",\"Player3\",\"Player4\"]\n",
    "for player in players:\n",
    "    print(player)\n",
    "    bool_check_pin = checkPin(hands,player)"
   ]
  },
  {
   "cell_type": "markdown",
   "id": "e3841394",
   "metadata": {},
   "source": [
    "## INITIAL SIMULATION:"
   ]
  },
  {
   "cell_type": "markdown",
   "id": "22c3e658",
   "metadata": {},
   "source": [
    "### Purpose of Initial Simulation:\n",
    "This is initial simulation will record counters for the occurance of each meld hand. From here probability that each event will be calculated by dividing the number of occurances of each meld hand by the number of simulations."
   ]
  },
  {
   "cell_type": "code",
   "execution_count": 22,
   "id": "db28bf56",
   "metadata": {},
   "outputs": [
    {
     "name": "stderr",
     "output_type": "stream",
     "text": [
      "100%|██████████| 10000/10000 [00:14<00:00, 696.51it/s]\n"
     ]
    }
   ],
   "source": [
    "N_sim = 10000 # Number of simulations we want to record\n",
    "N_players = 4\n",
    "players=[\"Player1\",\"Player2\",\"Player3\",\"Player4\"]\n",
    "# Initialize Counters\n",
    "c_run_count = 0\n",
    "d_run_count = 0\n",
    "h_run_count = 0\n",
    "s_run_count = 0\n",
    "run_count = 0\n",
    "mar_count = 0\n",
    "c_mar_count = 0\n",
    "d_mar_count = 0\n",
    "h_mar_count = 0\n",
    "s_mar_count = 0\n",
    "hun_aces_count = 0\n",
    "eight_king_count = 0\n",
    "sixty_queen_count = 0\n",
    "fourty_jack_count = 0\n",
    "half_pin_count = 0\n",
    "pin_count = 0\n",
    "\n",
    "# initialize deck\n",
    "deck_sim = Deck()\n",
    "for i in tqdm(range(0,N_sim)):\n",
    "    deck_sim = Deck()\n",
    "    deck_sim.shuffle()\n",
    "    hands_sim = pd.DataFrame(data=deck_sim.deal(N_players),index=[\"Player\"+str(i) for i in range(1,N_players+1)])\n",
    "    hands_sim = hands_sim.T\n",
    "    #print(hands_sim)\n",
    "    player_scores = [0,0,0,0]\n",
    "    player_index = 0\n",
    "    for player in players:\n",
    "        bool_club_runs,bool_heart_runs,bool_spade_runs,bool_dim_runs=CheckRuns(hands_sim,player)\n",
    "        #print(bool_club_runs)\n",
    "        bool_club_mar,bool_heart_mar,bool_spade_mar,bool_dim_mar = CheckMarriages(hands_sim,player)\n",
    "        bool_hun_aces = checkHunAces(hands_sim,player)\n",
    "        bool_check_eight_kings = checkEightKing(hands_sim,player)\n",
    "        bool_check_six_queens = checkSixQueen(hands_sim,player)\n",
    "        bool_check_four_jack = checkFourJacks(hands_sim,player)\n",
    "        bool_check_half_pin = checkHalfPin(hands_sim,player)\n",
    "        bool_check_full_pin = checkPin(hands_sim,player)\n",
    "        if bool_club_runs:\n",
    "            c_run_count+=1\n",
    "            c_mar_count-=1 # subtracting from mariage count so we don't double count in the occurance of a run\n",
    "            #print(c_run_count)\n",
    "        if bool_heart_runs:\n",
    "            h_run_count +=1\n",
    "            h_mar_count -=1\n",
    "            #print(h_run_count)\n",
    "        if bool_spade_runs:\n",
    "            s_run_count +=1\n",
    "            s_mar_count -=1\n",
    "            #print(s_run_count)\n",
    "        if bool_dim_runs:\n",
    "            d_run_count +=1\n",
    "            d_mar_count -=1\n",
    "            #print(d_run_count)\n",
    "        if bool_club_mar:\n",
    "            c_mar_count+=1\n",
    "        if bool_heart_mar:\n",
    "            h_mar_count+=1\n",
    "            #print(h_mar_count)\n",
    "        if bool_spade_mar:\n",
    "            s_mar_count+=1\n",
    "        if bool_dim_mar:\n",
    "            d_mar_count+=1\n",
    "        if bool_hun_aces:\n",
    "            hun_aces_count+=1\n",
    "        if bool_check_eight_kings:\n",
    "            eight_king_count+=1\n",
    "        if bool_check_six_queens:\n",
    "            sixty_queen_count+=1\n",
    "        if bool_check_four_jack:\n",
    "            fourty_jack_count+=1\n",
    "        if bool_check_half_pin:\n",
    "            half_pin_count+=1\n",
    "        if bool_check_full_pin:\n",
    "            pin_count+=1\n",
    "        if bool_check_full_pin and bool_check_half_pin:\n",
    "            #print(half_pin_count)\n",
    "            half_pin_count=half_pin_count-1\n",
    "        \n",
    "        #player_scores[player_index] = score\n",
    "               "
   ]
  },
  {
   "cell_type": "markdown",
   "id": "ee9c79d9",
   "metadata": {},
   "source": [
    "### Aggegrate Results\n",
    "Totals number of occurances of each meld hand and calculates probability of each meld hand"
   ]
  },
  {
   "cell_type": "code",
   "execution_count": 23,
   "id": "b411cf20",
   "metadata": {},
   "outputs": [
    {
     "name": "stdout",
     "output_type": "stream",
     "text": [
      "                  Occurances  Probabilities\n",
      "Clubs Runs               418         0.0418\n",
      "Hearts Runs              392         0.0392\n",
      "Spades Runs              373         0.0373\n",
      "Dimonds Runs             404         0.0404\n",
      "Clubs Marriage          8616         0.8616\n",
      "Hearts Marriage         8701         0.8701\n",
      "Spades Marriage         8803         0.8803\n",
      "Dimonds Marriage        8618         0.8618\n",
      "Hundred Aces            1095         0.1095\n",
      "Eighty Kings            1019         0.1019\n",
      "Sixty Queens            1064         0.1064\n",
      "Forty Jacks             1062         0.1062\n",
      "Half Pinochle           6695         0.6695\n",
      "Full Pinochle            644         0.0644\n"
     ]
    }
   ],
   "source": [
    "total_runs = c_run_count+h_run_count+s_run_count+d_run_count\n",
    "total_marriages = s_mar_count+c_mar_count+h_mar_count+d_mar_count\n",
    "raw_results = [c_run_count,h_run_count,s_run_count,d_run_count,\n",
    "               c_mar_count,h_mar_count,s_mar_count,d_mar_count,\n",
    "               hun_aces_count,eight_king_count,sixty_queen_count,fourty_jack_count,\n",
    "               half_pin_count,pin_count]\n",
    "prob = []\n",
    "for result in raw_results:\n",
    "    prob.append(result / N_sim)\n",
    "expected_occurance = []\n",
    "#for \n",
    "#prob = occurance/N_sim for occurance in raw_results\n",
    "results={\"Occurances\":raw_results,\"Probabilities\":prob}\n",
    "index = [\"Clubs Runs\",\"Hearts Runs\",\"Spades Runs\",\"Dimonds Runs\",\n",
    "         \"Clubs Marriage\",\"Hearts Marriage\",\"Spades Marriage\",\"Dimonds Marriage\",\n",
    "        \"Hundred Aces\",\"Eighty Kings\",\"Sixty Queens\",\"Forty Jacks\",\n",
    "        \"Half Pinochle\", \"Full Pinochle\"]\n",
    "df = pd.DataFrame(data=results,index=index)\n",
    "print(df)"
   ]
  },
  {
   "cell_type": "markdown",
   "id": "c04d4624",
   "metadata": {},
   "source": [
    "## CONDITIONAL PROBABILITY SIMULATION:"
   ]
  },
  {
   "cell_type": "markdown",
   "id": "ec8b4dcb",
   "metadata": {},
   "source": [
    "This simulation will total the joint probabilities of certain events for example: (100 Aces && a run in clubs||hearts||dimonds||spades)"
   ]
  },
  {
   "cell_type": "code",
   "execution_count": 24,
   "id": "a5c8294a",
   "metadata": {},
   "outputs": [
    {
     "name": "stderr",
     "output_type": "stream",
     "text": [
      "100%|██████████| 10000/10000 [00:14<00:00, 669.28it/s]\n"
     ]
    }
   ],
   "source": [
    "N_sim = 10000 # Number of simulations we want to record\n",
    "N_players = 4\n",
    "players=[\"Player1\",\"Player2\",\"Player3\",\"Player4\"]\n",
    "# Initialize Counters\n",
    "c_run_count = 0\n",
    "d_run_count = 0\n",
    "h_run_count = 0\n",
    "s_run_count = 0\n",
    "run_count = 0\n",
    "mar_count = 0\n",
    "c_mar_count = 0\n",
    "d_mar_count = 0\n",
    "h_mar_count = 0\n",
    "s_mar_count = 0\n",
    "hun_aces_count = 0\n",
    "eight_king_count = 0\n",
    "sixty_queen_count = 0\n",
    "fourty_jack_count = 0\n",
    "half_pin_count = 0\n",
    "pin_count = 0\n",
    "hun_aces_and_run_count = 0\n",
    "hun_aces_and_eight_king_count = 0\n",
    "pin_count_and_sixty_queen_count = 0\n",
    "total_run_count = 0\n",
    "total_mar_count = 0\n",
    "spades_run_full_pin_count=0\n",
    "spades_run_half_pin_count=0\n",
    "dims_run_full_pin_count=0\n",
    "dims_run_half_pin_count=0\n",
    "\n",
    "# initialize deck\n",
    "deck_sim = Deck()\n",
    "for i in tqdm(range(0,N_sim)):\n",
    "    deck_sim = Deck()\n",
    "    deck_sim.shuffle()\n",
    "    hands_sim = pd.DataFrame(data=deck_sim.deal(N_players),index=[\"Player\"+str(i) for i in range(1,N_players+1)])\n",
    "    hands_sim = hands_sim.T\n",
    "    #print(hands_sim)\n",
    "    player_scores = [0,0,0,0]\n",
    "    player_index = 0\n",
    "    for player in players:\n",
    "        bool_club_runs,bool_heart_runs,bool_spade_runs,bool_dim_runs=CheckRuns(hands_sim,player)\n",
    "        #print(bool_club_runs)\n",
    "        bool_club_mar,bool_heart_mar,bool_spade_mar,bool_dim_mar = CheckMarriages(hands_sim,player)\n",
    "        bool_hun_aces = checkHunAces(hands_sim,player)\n",
    "        bool_check_eight_kings = checkEightKing(hands_sim,player)\n",
    "        bool_check_six_queens = checkSixQueen(hands_sim,player)\n",
    "        bool_check_four_jack = checkFourJacks(hands_sim,player)\n",
    "        bool_check_half_pin = checkHalfPin(hands_sim,player)\n",
    "        bool_check_full_pin = checkPin(hands_sim,player)\n",
    "        if bool_club_runs:\n",
    "            c_run_count+=1\n",
    "            c_mar_count-=1 # subtracting from mariage count so we don't double count in the occurance of a run\n",
    "            total_run_count+=1\n",
    "            #print(c_run_count)\n",
    "        if bool_heart_runs:\n",
    "            h_run_count +=1\n",
    "            h_mar_count -=1\n",
    "            total_run_count+=1\n",
    "            #print(h_run_count)\n",
    "        if bool_spade_runs:\n",
    "            s_run_count +=1\n",
    "            s_mar_count -=1\n",
    "            total_run_count+=1\n",
    "            #print(s_run_count)\n",
    "        if bool_dim_runs:\n",
    "            d_run_count +=1\n",
    "            d_mar_count -=1\n",
    "            total_run_count+=1\n",
    "            #print(d_run_count)\n",
    "        if bool_club_mar:\n",
    "            c_mar_count+=1\n",
    "            total_mar_count+=1\n",
    "        if bool_heart_mar:\n",
    "            h_mar_count+=1\n",
    "            total_mar_count+=1\n",
    "            #print(h_mar_count)\n",
    "        if bool_spade_mar:\n",
    "            s_mar_count+=1\n",
    "            total_mar_count+=1\n",
    "        if bool_dim_mar:\n",
    "            d_mar_count+=1\n",
    "            total_mar_count+=1\n",
    "        if bool_hun_aces:\n",
    "            hun_aces_count+=1\n",
    "        if bool_check_eight_kings:\n",
    "            eight_king_count+=1\n",
    "        if bool_check_six_queens:\n",
    "            sixty_queen_count+=1\n",
    "        if bool_check_four_jack:\n",
    "            fourty_jack_count+=1\n",
    "        if bool_check_half_pin:\n",
    "            half_pin_count+=1\n",
    "        if bool_check_full_pin:\n",
    "            pin_count+=1\n",
    "        if bool_check_full_pin and bool_check_half_pin:\n",
    "            #print(half_pin_count)\n",
    "            half_pin_count=half_pin_count-1\n",
    "        if (bool_hun_aces and bool_club_runs) or (bool_hun_aces and bool_spade_runs) or (bool_hun_aces and bool_dim_runs) or (bool_hun_aces and bool_heart_runs):\n",
    "            hun_aces_and_run_count +=1\n",
    "#         if (bool_hun_aces and bool_check_eight_kings):\n",
    "#             hun_aces_and_eight_king_count +=1\n",
    "        if (bool_check_full_pin and bool_spade_runs):\n",
    "            spades_run_full_pin_count +=1\n",
    "        if bool_check_half_pin and bool_spade_runs:\n",
    "            spades_run_half_pin_count+=1\n",
    "        if bool_check_full_pin and bool_dim_runs:\n",
    "            dims_run_full_pin_count+=1\n",
    "        if bool_check_half_pin and bool_dim_runs:\n",
    "            dims_run_half_pin_count+=1\n",
    "        if bool_check_full_pin and bool_check_six_queens:\n",
    "            pin_count_and_sixty_queen_count +=1 "
   ]
  },
  {
   "cell_type": "code",
   "execution_count": 25,
   "id": "72709354",
   "metadata": {},
   "outputs": [
    {
     "name": "stdout",
     "output_type": "stream",
     "text": [
      "                             Occurances  Probabilities\n",
      "Clubs Runs                       398.00       0.039800\n",
      "Hearts Runs                      382.00       0.038200\n",
      "Spades Runs                      394.00       0.039400\n",
      "Dimonds Runs                     335.00       0.033500\n",
      "Total Runs                       377.25       0.037725\n",
      "Clubs Marriage                  8754.00       0.875400\n",
      "Hearts Marriage                 8694.00       0.869400\n",
      "Spades Marriage                 8720.00       0.872000\n",
      "Dimonds Marriage                8656.00       0.865600\n",
      "Total Marriages                 9083.25       0.908325\n",
      "Hundred Aces                    1059.00       0.105900\n",
      "Eighty Kings                    1088.00       0.108800\n",
      "Sixty Queens                    1065.00       0.106500\n",
      "Forty Jacks                     1046.00       0.104600\n",
      "Half Pinochle                   6849.00       0.684900\n",
      "Full Pinochle                    627.00       0.062700\n",
      "Hun Aces & Run                    33.00       0.003300\n",
      "Hun Aces & Eighty Kings            0.00       0.000000\n",
      "Pinchole & Sixty Queens           20.00       0.002000\n",
      "Spades Run & Full Pinochle         4.00       0.000400\n",
      "Spades Run & Half Pinochle       118.00       0.011800\n",
      "Dimonds Run & Full Pinochle        8.00       0.000800\n",
      "Dimonds Run & Half Pinochle      110.00       0.011000\n"
     ]
    }
   ],
   "source": [
    "#total_runs = c_run_count+h_run_count+s_run_count+d_run_count\n",
    "total_marriages = s_mar_count+c_mar_count+h_mar_count+d_mar_count\n",
    "raw_results = [c_run_count,h_run_count,s_run_count,d_run_count,total_run_count/4,\n",
    "               c_mar_count,h_mar_count,s_mar_count,d_mar_count,total_mar_count/4,\n",
    "               hun_aces_count,eight_king_count,sixty_queen_count,fourty_jack_count,\n",
    "               half_pin_count,pin_count,\n",
    "               hun_aces_and_run_count,hun_aces_and_eight_king_count,pin_count_and_sixty_queen_count,\n",
    "               spades_run_full_pin_count,spades_run_half_pin_count,dims_run_full_pin_count,dims_run_half_pin_count\n",
    "              ]\n",
    "prob = []\n",
    "for result in raw_results:\n",
    "    prob.append(result / N_sim)\n",
    "expected_occurance = []\n",
    "#for \n",
    "#prob = occurance/N_sim for occurance in raw_results\n",
    "results={\"Occurances\":raw_results,\"Probabilities\":prob}\n",
    "index = [\"Clubs Runs\",\"Hearts Runs\",\"Spades Runs\",\"Dimonds Runs\",\"Total Runs\",\n",
    "         \"Clubs Marriage\",\"Hearts Marriage\",\"Spades Marriage\",\"Dimonds Marriage\",\"Total Marriages\",\n",
    "        \"Hundred Aces\",\"Eighty Kings\",\"Sixty Queens\",\"Forty Jacks\",\n",
    "        \"Half Pinochle\", \"Full Pinochle\",\"Hun Aces & Run\", \"Hun Aces & Eighty Kings\",\"Pinchole & Sixty Queens\",\n",
    "         \"Spades Run & Full Pinochle\", \"Spades Run & Half Pinochle\",\"Dimonds Run & Full Pinochle\", \"Dimonds Run & Half Pinochle\"]\n",
    "df = pd.DataFrame(data=results,index=index)\n",
    "print(df)"
   ]
  },
  {
   "cell_type": "markdown",
   "id": "6ca521ac",
   "metadata": {},
   "source": [
    "## Calculating Conditional Probabilities"
   ]
  },
  {
   "cell_type": "markdown",
   "id": "24ad81c0",
   "metadata": {},
   "source": [
    "Conditional probabilities are defined as the following:\n",
    "$$P(A|B) = \\frac{P(A \\cap B)}{P(B)}$$\n",
    "where P(A|B) is the probability of event A occuring givent that event B has occured. P(A n B) is the probability the events A and B both occur. This calculation will be preformed for multiple intresting meld hand combinations. P(A n B) has been determined through counters in the simulaton for dependent events, and will be determined through the definition of the multliplcation rule for indepent events which reads:\n",
    "$$ P(A \\cap B) = P(A) * P(B) $$\n",
    "Using our counters and the multiplation rule intresting conditional probabilities can be calculated."
   ]
  },
  {
   "cell_type": "markdown",
   "id": "1e6836a3",
   "metadata": {},
   "source": [
    "### Conditional Probability Function:"
   ]
  },
  {
   "cell_type": "code",
   "execution_count": 26,
   "id": "76bbd46f",
   "metadata": {},
   "outputs": [],
   "source": [
    "def ConditionalProb(prob_B, joint_prob):\n",
    "    conditional = joint_prob/prob_B\n",
    "    return conditional"
   ]
  },
  {
   "cell_type": "markdown",
   "id": "e8f45e41",
   "metadata": {},
   "source": [
    "### Unit Test For Conditional Probability Function:"
   ]
  },
  {
   "cell_type": "code",
   "execution_count": 27,
   "id": "84845f72",
   "metadata": {},
   "outputs": [
    {
     "name": "stdout",
     "output_type": "stream",
     "text": [
      "0.018779342723004695\n"
     ]
    }
   ],
   "source": [
    "prob_sixty_queens = df.at[\"Sixty Queens\", \"Probabilities\"]\n",
    "prob_joint_pin_sixty_queens = df.at[\"Pinchole & Sixty Queens\", \"Probabilities\"]\n",
    "Pin_given_sixty_queens = ConditionalProb(prob_sixty_queens,prob_joint_pin_sixty_queens)\n",
    "print(Pin_given_sixty_queens)"
   ]
  },
  {
   "cell_type": "markdown",
   "id": "19cde0f8",
   "metadata": {},
   "source": [
    "### Joint Probability For Indepent Events Function:"
   ]
  },
  {
   "cell_type": "code",
   "execution_count": 28,
   "id": "0b344fd9",
   "metadata": {},
   "outputs": [],
   "source": [
    "def JointIndepentEvents(prob_A,prob_B):\n",
    "    jointIndepentEvents = prob_A*prob_B\n",
    "    return jointIndepentEvents"
   ]
  },
  {
   "cell_type": "markdown",
   "id": "908ec8c5",
   "metadata": {},
   "source": [
    "### Unit Test For Joint Indepent Events:"
   ]
  },
  {
   "cell_type": "code",
   "execution_count": 29,
   "id": "9d567bb1",
   "metadata": {},
   "outputs": [
    {
     "name": "stdout",
     "output_type": "stream",
     "text": [
      "0.7610727599999999\n"
     ]
    }
   ],
   "source": [
    "prob_mar_clubs = df.at[\"Clubs Marriage\",\"Probabilities\"]\n",
    "prob_mar_hearts = df.at[\"Hearts Marriage\",\"Probabilities\"]\n",
    "clubs_and_hearts_joint_marriage = JointIndepentEvents(prob_mar_clubs,prob_mar_hearts)\n",
    "print(clubs_and_hearts_joint_marriage)"
   ]
  },
  {
   "cell_type": "markdown",
   "id": "c8b1905e",
   "metadata": {},
   "source": [
    "## Conditional Probability Data Frame(s)\n",
    "Now that we have a function that works to calculate conditional and any indepenent joint probabilites we will create a data frame showing the conditional probabilities of diffrent meld combinations."
   ]
  },
  {
   "cell_type": "code",
   "execution_count": 30,
   "id": "6eaadee3",
   "metadata": {},
   "outputs": [
    {
     "name": "stdout",
     "output_type": "stream",
     "text": [
      "                                 Conditional Probabilities\n",
      "Half Pinochle Given Spade Run                     0.299492\n",
      "Full Pinochle Given Spade Run                     0.010152\n",
      "Half Pinochle Given Dimonds Run                   0.328358\n",
      "Full Pinochle Given Dimonds Run                   0.023881\n"
     ]
    }
   ],
   "source": [
    "# Data frame examining a pinochle or half pinochle given that a run in dimonds or a run in clubs\n",
    "probs = \"Probabilities\"\n",
    "prob_half_pin = df.at[\"Half Pinochle\",probs]\n",
    "prob_full_pin = df.at[\"Full Pinochle\",probs]\n",
    "prob_spade_run = df.at[\"Spades Runs\",probs]\n",
    "prob_dim_run = df.at[\"Dimonds Runs\",probs]\n",
    "prob_half_and_spades_run = df.at[\"Spades Run & Half Pinochle\",probs]\n",
    "prob_full_and_spades_run = df.at[\"Spades Run & Full Pinochle\",probs]\n",
    "prob_half_and_dim_run = df.at[\"Dimonds Run & Half Pinochle\",probs]\n",
    "prob_full_and_dim_run = df.at[\"Dimonds Run & Full Pinochle\",probs]\n",
    "half_pin_given_spade_run = ConditionalProb(prob_spade_run,prob_half_and_spades_run)\n",
    "full_pin_given_spade_run = ConditionalProb(prob_spade_run,prob_full_and_spades_run)\n",
    "half_pin_given_dim_run = ConditionalProb(prob_dim_run,prob_half_and_dim_run)\n",
    "full_pin_given_dim_run = ConditionalProb(prob_dim_run,prob_full_and_dim_run)\n",
    "\n",
    "conditional_probs_pins = {\"Conditional Probabilities\":[half_pin_given_spade_run,full_pin_given_spade_run,\n",
    "                                                       half_pin_given_dim_run,full_pin_given_dim_run]}\n",
    "index_pins = [\"Half Pinochle Given Spade Run\", \"Full Pinochle Given Spade Run\",\n",
    "              \"Half Pinochle Given Dimonds Run\",\"Full Pinochle Given Dimonds Run\"]\n",
    "df_pin_conditionals = pd.DataFrame(data = conditional_probs_pins,index = index_pins)\n",
    "print(df_pin_conditionals)"
   ]
  },
  {
   "cell_type": "code",
   "execution_count": 31,
   "id": "4258dd15",
   "metadata": {},
   "outputs": [
    {
     "name": "stdout",
     "output_type": "stream",
     "text": [
      "                                    Conditional Probabilities\n",
      "Hundred Aces Given Run of Any Suit                   0.087475\n"
     ]
    }
   ],
   "source": [
    "# Data frame examining a hun aces given a run of any suit\n",
    "joint_hun_aces_and_run = df.at[\"Hun Aces & Run\",probs]\n",
    "prob_run_any_suit = df.at[\"Total Runs\",probs]\n",
    "hun_aces_given_run = ConditionalProb(prob_run_any_suit,joint_hun_aces_and_run)\n",
    "conditional_prob_hun_aces = {\"Conditional Probabilities\":[hun_aces_given_run]}\n",
    "index_hun_aces = [\"Hundred Aces Given Run of Any Suit\"]\n",
    "df_hun_aces = pd.DataFrame(data = conditional_prob_hun_aces,index = index_hun_aces)\n",
    "print(df_hun_aces)"
   ]
  },
  {
   "cell_type": "code",
   "execution_count": 32,
   "id": "15fc7e2b",
   "metadata": {},
   "outputs": [
    {
     "name": "stdout",
     "output_type": "stream",
     "text": [
      "                                  Conditional Probabilities\n",
      "Club Run Given Club Marriage                       0.045465\n",
      "Spade Run Given Spade Marriage                     0.045183\n",
      "Heart Run Given Heart Marriage                     0.043938\n",
      "Dimond Run Given Dimond Marriage                   0.038701\n"
     ]
    }
   ],
   "source": [
    "# Data frame examining a run given a marriage in that suit\n",
    "prob_club_run = df.at[\"Clubs Runs\",probs]\n",
    "prob_spade_run = df.at[\"Spades Runs\",probs]\n",
    "prob_hearts_run = df.at[\"Hearts Runs\",probs]\n",
    "prob_dim_run = df.at[\"Dimonds Runs\",probs]\n",
    "\n",
    "prob_club_mar = df.at[\"Clubs Marriage\",probs]\n",
    "prob_hearts_mar = df.at[\"Hearts Marriage\",probs]\n",
    "prob_spades_mar = df.at[\"Spades Marriage\",probs]\n",
    "prob_dim_mar = df.at[\"Dimonds Marriage\",probs]\n",
    "\n",
    "club_run_given_club_mar = ConditionalProb(prob_club_mar,prob_club_run)\n",
    "spade_run_given_spade_mar = ConditionalProb(prob_spades_mar,prob_spade_run)\n",
    "heart_run_given_heart_mar = ConditionalProb(prob_hearts_mar,prob_hearts_run)\n",
    "dim_run_given_dim_mar = ConditionalProb(prob_dim_mar,prob_dim_run)\n",
    "\n",
    "conditional_prob_runs= {\"Conditional Probabilities\":[club_run_given_club_mar,spade_run_given_spade_mar,\n",
    "                                                          heart_run_given_heart_mar,dim_run_given_dim_mar]}\n",
    "index_runs = [\"Club Run Given Club Marriage\",\"Spade Run Given Spade Marriage\",\n",
    "              \"Heart Run Given Heart Marriage\",\"Dimond Run Given Dimond Marriage\"]\n",
    "df_runs = pd.DataFrame(data = conditional_prob_runs,index = index_runs)\n",
    "print(df_runs)"
   ]
  },
  {
   "cell_type": "code",
   "execution_count": 33,
   "id": "294fd6b8",
   "metadata": {},
   "outputs": [
    {
     "name": "stdout",
     "output_type": "stream",
     "text": [
      "                                     Conditional Probabilities\n",
      "Heart Marriage Given Club Marriage                      0.8694\n",
      "Spade Marriage Given Club Marriage                      0.8720\n",
      "Dimond Marriage Given Club Marriage                     0.8656\n"
     ]
    }
   ],
   "source": [
    "# Data Frames to calculate likely hood of getting a marriage in a diffrent suit given a you have one in a clubs \n",
    "# Independnt events all combinations are indepent events so we will assume that prob will be same as given CM for any other given marriage\n",
    "\n",
    "prob_club_mar = df.at[\"Clubs Marriage\",probs]\n",
    "prob_hearts_mar = df.at[\"Hearts Marriage\",probs]\n",
    "prob_spades_mar = df.at[\"Spades Marriage\",probs]\n",
    "prob_dim_mar = df.at[\"Dimonds Marriage\",probs]\n",
    "\n",
    "joint_club_heart_mar = JointIndepentEvents(prob_club_mar,prob_hearts_mar)\n",
    "joint_club_spade_mar = JointIndepentEvents(prob_club_mar,prob_spades_mar)\n",
    "joint_club_dim_mar = JointIndepentEvents(prob_club_mar,prob_dim_mar)\n",
    "\n",
    "heart_mar_given_CM = ConditionalProb(prob_club_mar,joint_club_heart_mar)\n",
    "spade_mar_given_CM = ConditionalProb(prob_club_mar,joint_club_spade_mar)\n",
    "dim_mar_given_CM = ConditionalProb(prob_club_mar,joint_club_dim_mar)\n",
    "\n",
    "Conditional_prob_mar= {\"Conditional Probabilities\":[heart_mar_given_CM,spade_mar_given_CM,dim_mar_given_CM]}\n",
    "index_mar = [\"Heart Marriage Given Club Marriage\",\"Spade Marriage Given Club Marriage\",\n",
    "              \"Dimond Marriage Given Club Marriage\"]\n",
    "df_mar = pd.DataFrame(data = Conditional_prob_mar,index = index_mar)\n",
    "print(df_mar)"
   ]
  },
  {
   "cell_type": "code",
   "execution_count": 34,
   "id": "a12ac15d",
   "metadata": {},
   "outputs": [
    {
     "name": "stdout",
     "output_type": "stream",
     "text": [
      "                                    Conditional Probabilities\n",
      "Club Run Given Club Marriage                         0.045465\n",
      "Spade Run Given Spade Marriage                       0.045183\n",
      "Heart Run Given Heart Marriage                       0.043938\n",
      "Dimond Run Given Dimond Marriage                     0.038701\n",
      "Hundred Aces Given Run of Any Suit                   0.087475\n",
      "Half Pinochle Given Spade Run                        0.299492\n",
      "Full Pinochle Given Spade Run                        0.010152\n",
      "Half Pinochle Given Dimonds Run                      0.328358\n",
      "Full Pinochle Given Dimonds Run                      0.023881\n"
     ]
    }
   ],
   "source": [
    "# Full Data Frame of Conditional probabilities\n",
    "frames = [df_runs,df_hun_aces,df_pin_conditionals]\n",
    "conditional_probabilities = pd.concat(frames)\n",
    "print(conditional_probabilities)"
   ]
  },
  {
   "cell_type": "markdown",
   "id": "90c8274f",
   "metadata": {},
   "source": [
    "### Bar Chart Plotting Conditional Probabilities"
   ]
  },
  {
   "cell_type": "code",
   "execution_count": 35,
   "id": "1d2f0d4e",
   "metadata": {},
   "outputs": [
    {
     "data": {
      "text/plain": [
       "Text(0, 0.5, 'Probability of Conditional Event')"
      ]
     },
     "execution_count": 35,
     "metadata": {},
     "output_type": "execute_result"
    },
    {
     "data": {
      "image/png": "[encoded data removed]",
      "text/plain": [
       "<Figure size 720x360 with 1 Axes>"
      ]
     },
     "metadata": {
      "needs_background": "light"
     },
     "output_type": "display_data"
    }
   ],
   "source": [
    "conditional_prob_index = conditional_probabilities.index.to_list()\n",
    "x_axis = [\"CR|CM\",\"SR|CS\",\"HR|HM\",\"DR|DM\",\"100A|Run\",\"HP|SR\",\"FP|SR\",\"HP|DR\",\"FP|DR\"]\n",
    "f,ax=plt.subplots(figsize=(10,5))\n",
    "plt.bar(x_axis[0],conditional_probabilities[\"Conditional Probabilities\"][0],width=.8,label=\"Clubs Run Given Clubs Marriage\")\n",
    "plt.bar(x_axis[1],conditional_probabilities[\"Conditional Probabilities\"][1],width=.8,label=\"Spades Run Given Spades Marriage\")\n",
    "plt.bar(x_axis[2],conditional_probabilities[\"Conditional Probabilities\"][2],width=.8, label=\"Hearts Run Given Hearts Marriage\")\n",
    "plt.bar(x_axis[3],conditional_probabilities[\"Conditional Probabilities\"][3],width=.8, label = \"Dimonds Run Given Dimonds Marriage\")\n",
    "plt.bar(x_axis[4],conditional_probabilities[\"Conditional Probabilities\"][4],width=.8, label = \"Hundred Aces Given Run Of Any Suit\")\n",
    "plt.bar(x_axis[5],conditional_probabilities[\"Conditional Probabilities\"][5],width=.8, label = \"Half Pinochle Given Dimonds Run\")\n",
    "plt.bar(x_axis[6],conditional_probabilities[\"Conditional Probabilities\"][6],width=.8, label=\"Full Pinochle Given Dimonds Run\")\n",
    "plt.bar(x_axis[7],conditional_probabilities[\"Conditional Probabilities\"][7],width=.8, label=\"Half Pinochle Given Spades Run\")\n",
    "plt.bar(x_axis[8],conditional_probabilities[\"Conditional Probabilities\"][8],width=.8, label=\"Full Pinochle Given Spades Run\")\n",
    "ax.legend()\n",
    "ax.set_ylabel(\"Probability of Conditional Event\")"
   ]
  },
  {
   "cell_type": "markdown",
   "id": "1ab76718",
   "metadata": {},
   "source": [
    "## Bayes Therom: "
   ]
  },
  {
   "cell_type": "markdown",
   "id": "d7c692ad",
   "metadata": {},
   "source": [
    "We can make use of bayes therom in order to determine the counter part of our conditional probilities. Bayes therom is defined as $$ P(A|B) = \\frac{P(B|A)*P(A)}{P(B)} $$ which we can now utilize because we know one of the conditional probabilities and the probabilities of what would be event A and event B. Due to the fact that a run constitues a marriage we will neglect any marriage given run calculations and instead focus on the following events: Run|100A,SR|HP,FP|SR,DR|HP,DR,FP"
   ]
  },
  {
   "cell_type": "markdown",
   "id": "006f8b6f",
   "metadata": {},
   "source": [
    "### Bayes Therom Function:"
   ]
  },
  {
   "cell_type": "code",
   "execution_count": 51,
   "id": "e09c22d8",
   "metadata": {},
   "outputs": [],
   "source": [
    "def BayesTherom(P_b_a, P_a, P_b):\n",
    "    P_A_given_B = P_b_a*P_a/P_b\n",
    "    return P_A_given_B"
   ]
  },
  {
   "cell_type": "markdown",
   "id": "7177c690",
   "metadata": {},
   "source": [
    "### Unit Test For Bayes Therom"
   ]
  },
  {
   "cell_type": "code",
   "execution_count": 52,
   "id": "a8fe7f80",
   "metadata": {},
   "outputs": [],
   "source": [
    "pro_hundred_aces = df.at[\"Hundred Aces\",probs]\n",
    "hun_aces_given_run = ConditionalProb(prob_run_any_suit,joint_hun_aces_and_run)\n",
    "#conditional_prob_hun_aces = {\"Conditional Probabilities\":[hun_aces_given_run]}\n",
    "hun_A_given_run = BayesTherom(hun_aces_given_run,prob_run_any_suit,pro_hundred_aces)\n"
   ]
  },
  {
   "cell_type": "code",
   "execution_count": 65,
   "id": "acc0b9c4",
   "metadata": {},
   "outputs": [
    {
     "name": "stdout",
     "output_type": "stream",
     "text": [
      "                                   Conditional Probabilities\n",
      "Run (any suit) Given Hundred Aces                   0.031161\n",
      "Spades Run Given Half Pinochle                      0.017229\n",
      "Spades Run Given Full Pinochle                      0.006380\n",
      "Dimonds Run Given Half Pinochle                     0.016061\n",
      "Dimonds Run Given Full Pinochle                     0.012759\n"
     ]
    }
   ],
   "source": [
    "# Data Frame of additional conditional probabilities\n",
    "pro_hundred_aces = df.at[\"Hundred Aces\",probs]\n",
    "hun_aces_given_run = ConditionalProb(prob_run_any_suit,joint_hun_aces_and_run)\n",
    "#conditional_prob_hun_aces = {\"Conditional Probabilities\":[hun_aces_given_run]}\n",
    "run_given_HunAces = BayesTherom(hun_aces_given_run,prob_run_any_suit,pro_hundred_aces)\n",
    "\n",
    "prob_half_pin = df.at[\"Half Pinochle\",probs]\n",
    "prob_full_pin = df.at[\"Full Pinochle\",probs]\n",
    "\n",
    "half_pin_given_spade_run = ConditionalProb(prob_spade_run,prob_half_and_spades_run)\n",
    "full_pin_given_spade_run = ConditionalProb(prob_spade_run,prob_full_and_spades_run)\n",
    "half_pin_given_dim_run = ConditionalProb(prob_dim_run,prob_half_and_dim_run)\n",
    "full_pin_given_dim_run = ConditionalProb(prob_dim_run,prob_full_and_dim_run)\n",
    "\n",
    "prob_spades_run = df.at[\"Spades Runs\",probs]\n",
    "prob_dim_run = df.at[\"Dimonds Runs\",probs]\n",
    "\n",
    "prob_SR_given_HP = BayesTherom(half_pin_given_spade_run,prob_spades_run,prob_half_pin)\n",
    "#print(prob_SR_given_HP)\n",
    "prob_SR_given_FP = BayesTherom(full_pin_given_spade_run,prob_spades_run,prob_full_pin)\n",
    "\n",
    "prob_DR_given_HP = BayesTherom(half_pin_given_dim_run,prob_dim_run,prob_half_pin)\n",
    "prob_DR_given_FP = BayesTherom(full_pin_given_dim_run,prob_dim_run,prob_full_pin)\n",
    "\n",
    "\n",
    "Conditional_prob_bayes= {\"Conditional Probabilities\":[run_given_HunAces,prob_SR_given_HP,prob_SR_given_FP,\n",
    "                                                      prob_DR_given_HP,prob_DR_given_FP]}\n",
    "index_bayes = [\"Run (any suit) Given Hundred Aces\",\"Spades Run Given Half Pinochle\",\"Spades Run Given Full Pinochle\",\n",
    "            \"Dimonds Run Given Half Pinochle\",\"Dimonds Run Given Full Pinochle\"]\n",
    "df_bayes = pd.DataFrame(data = Conditional_prob_bayes,index = index_bayes)\n",
    "print(df_bayes)"
   ]
  },
  {
   "cell_type": "code",
   "execution_count": 66,
   "id": "318874b1",
   "metadata": {},
   "outputs": [
    {
     "data": {
      "text/plain": [
       "Text(0, 0.5, 'Probability of Conditional Event')"
      ]
     },
     "execution_count": 66,
     "metadata": {},
     "output_type": "execute_result"
    },
    {
     "data": {
      "image/png": "[encoded data removed]",
      "text/plain": [
       "<Figure size 720x360 with 1 Axes>"
      ]
     },
     "metadata": {
      "needs_background": "light"
     },
     "output_type": "display_data"
    }
   ],
   "source": [
    "bayes_index = df_bayes.index.to_list()\n",
    "x_axis = [\"R(Any Suit)|100A\",\"SR|HP\",\"SR|FP\",\"DR|HP\",\"DR|FP\"]\n",
    "f,ax=plt.subplots(figsize=(10,5))\n",
    "plt.bar(x_axis[0],df_bayes[\"Conditional Probabilities\"][0],width=.8,label=bayes_index[0])\n",
    "plt.bar(x_axis[1],df_bayes[\"Conditional Probabilities\"][1],width=.8,label=bayes_index[1])\n",
    "plt.bar(x_axis[2],df_bayes[\"Conditional Probabilities\"][2],width=.8, label=bayes_index[2])\n",
    "plt.bar(x_axis[3],df_bayes[\"Conditional Probabilities\"][3],width=.8, label=bayes_index[3])\n",
    "plt.bar(x_axis[4],df_bayes[\"Conditional Probabilities\"][4],width=.8, label=bayes_index[4])\n",
    "ax.legend()\n",
    "ax.set_ylabel(\"Probability of Conditional Event\")"
   ]
  }
 ],
 "metadata": {
  "kernelspec": {
   "display_name": "Python 3 (ipykernel)",
   "language": "python",
   "name": "python3"
  },
  "language_info": {
   "codemirror_mode": {
    "name": "ipython",
    "version": 3
   },
   "file_extension": ".py",
   "mimetype": "text/x-python",
   "name": "python",
   "nbconvert_exporter": "python",
   "pygments_lexer": "ipython3",
   "version": "3.9.5"
  }
 },
 "nbformat": 4,
 "nbformat_minor": 5
}
